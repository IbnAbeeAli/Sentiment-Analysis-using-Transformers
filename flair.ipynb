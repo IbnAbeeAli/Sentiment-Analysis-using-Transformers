{
 "cells": [
  {
   "cell_type": "markdown",
   "id": "4e5e5790",
   "metadata": {},
   "source": [
    "## Sentiment Analysis using pre-built simple Flair library functions"
   ]
  },
  {
   "cell_type": "markdown",
   "id": "d494357d",
   "metadata": {},
   "source": [
    "#### Steps to perform the analysis"
   ]
  },
  {
   "cell_type": "markdown",
   "id": "0c6d8682",
   "metadata": {},
   "source": [
    " 1. Intitialize the Model\n",
    " 2. Tokenizing\n",
    " 3. Process with Model\n",
    " 4. Format the Outputs"
   ]
  },
  {
   "cell_type": "code",
   "execution_count": 1,
   "id": "9ed879a5",
   "metadata": {},
   "outputs": [],
   "source": [
    "import flair"
   ]
  },
  {
   "cell_type": "code",
   "execution_count": 2,
   "id": "4c8e108c",
   "metadata": {},
   "outputs": [],
   "source": [
    "model = flair.models.TextClassifier.load('en-sentiment')"
   ]
  },
  {
   "cell_type": "code",
   "execution_count": 6,
   "id": "f48bb5b0",
   "metadata": {},
   "outputs": [
    {
     "data": {
      "text/plain": [
       "Sentence[3]: \"i hate you\""
      ]
     },
     "execution_count": 6,
     "metadata": {},
     "output_type": "execute_result"
    }
   ],
   "source": [
    "text = 'i hate you'\n",
    "sentence = flair.data.Sentence(text)\n",
    "sentence"
   ]
  },
  {
   "cell_type": "code",
   "execution_count": 7,
   "id": "56ad70dd",
   "metadata": {},
   "outputs": [],
   "source": [
    "model.predict(sentence)"
   ]
  },
  {
   "cell_type": "code",
   "execution_count": 8,
   "id": "b150760d",
   "metadata": {},
   "outputs": [
    {
     "data": {
      "text/plain": [
       "['Sentence[3]: \"i hate you\"'/'NEGATIVE' (0.9997)]"
      ]
     },
     "execution_count": 8,
     "metadata": {},
     "output_type": "execute_result"
    }
   ],
   "source": [
    "sentence.get_labels()"
   ]
  },
  {
   "cell_type": "code",
   "execution_count": null,
   "id": "5c95a666",
   "metadata": {},
   "outputs": [],
   "source": []
  }
 ],
 "metadata": {
  "kernelspec": {
   "display_name": "Python 3 (ipykernel)",
   "language": "python",
   "name": "python3"
  },
  "language_info": {
   "codemirror_mode": {
    "name": "ipython",
    "version": 3
   },
   "file_extension": ".py",
   "mimetype": "text/x-python",
   "name": "python",
   "nbconvert_exporter": "python",
   "pygments_lexer": "ipython3",
   "version": "3.9.16"
  }
 },
 "nbformat": 4,
 "nbformat_minor": 5
}
